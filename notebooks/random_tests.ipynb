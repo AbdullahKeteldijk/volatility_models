{
 "cells": [
  {
   "cell_type": "code",
   "execution_count": 1,
   "metadata": {},
   "outputs": [],
   "source": [
    "import numpy as np"
   ]
  },
  {
   "cell_type": "code",
   "execution_count": 14,
   "metadata": {},
   "outputs": [
    {
     "data": {
      "text/plain": [
       "array([[ 5.,  6.,  7.,  8.,  9., 10., 11., 12., 13., 14., 15., 16.],\n",
       "       [ 6.,  7.,  8.,  9., 10., 11., 12., 13., 14., 15., 16., 17.],\n",
       "       [ 7.,  8.,  9., 10., 11., 12., 13., 14., 15., 16., 17., 18.],\n",
       "       [ 8.,  9., 10., 11., 12., 13., 14., 15., 16., 17., 18., 19.]])"
      ]
     },
     "execution_count": 14,
     "metadata": {},
     "output_type": "execute_result"
    }
   ],
   "source": [
    "a = [1, 2, 3, 4, 5, 6, 7, 8, 9, 10, 11, 12, 13, 14, 15, 16, 17, 18, 19, 20]\n",
    "p = 4\n",
    "\n",
    "b = np.zeros((p, len(a)-2*p))\n",
    "\n",
    "for i in range(p):\n",
    "    b[i] = a[p+i:len(a)-p+i]\n"
   ]
  },
  {
   "cell_type": "code",
   "execution_count": 16,
   "metadata": {},
   "outputs": [
    {
     "data": {
      "text/plain": [
       "array([[ 25.,  36.,  49.,  64.],\n",
       "       [ 36.,  49.,  64.,  81.],\n",
       "       [ 49.,  64.,  81., 100.],\n",
       "       [ 64.,  81., 100., 121.],\n",
       "       [ 81., 100., 121., 144.],\n",
       "       [100., 121., 144., 169.],\n",
       "       [121., 144., 169., 196.],\n",
       "       [144., 169., 196., 225.],\n",
       "       [169., 196., 225., 256.],\n",
       "       [196., 225., 256., 289.],\n",
       "       [225., 256., 289., 324.],\n",
       "       [256., 289., 324., 361.]])"
      ]
     },
     "execution_count": 16,
     "metadata": {},
     "output_type": "execute_result"
    }
   ],
   "source": [
    "test = np.power(b,2).T\n",
    "\n",
    "coef = [0.2, 0.5, 0.75, 0.25, 0.4]\n",
    "sigma = np.zeros((len(test),1))\n",
    "\n",
    "for i in range(len(sigma)):\n",
    "    sigma[i] = coef[0] + coef"
   ]
  },
  {
   "cell_type": "code",
   "execution_count": 35,
   "metadata": {},
   "outputs": [
    {
     "data": {
      "text/plain": [
       "array([ 78.35, 104.15, 133.75, 167.15, 204.35, 245.35, 290.15, 338.75,\n",
       "       391.15, 447.35, 507.35, 571.15])"
      ]
     },
     "execution_count": 35,
     "metadata": {},
     "output_type": "execute_result"
    }
   ],
   "source": [
    "a = [1, 2, 3, 4, 5, 6, 7, 8, 9, 10, 11, 12, 13, 14, 15, 16, 17, 18, 19, 20]\n",
    "p = 4\n",
    "\n",
    "b = np.zeros((p, len(a)-2*p))\n",
    "\n",
    "for i in range(p):\n",
    "    b[i] = a[p+i:len(a)-p+i]\n",
    "    \n",
    "test = np.power(b,2).T\n",
    "coef = [0.2, 0.5, 0.75, 0.25, 0.4]\n",
    "const = np.ones((len(test),1))\n",
    "summation = np.multiply(coef[1:], test)\n",
    "const.shape, summation.shape\n",
    "sigma = np.sum(np.concatenate((const, summation), axis=1), axis=1)\n",
    "\n",
    "sigma"
   ]
  },
  {
   "cell_type": "code",
   "execution_count": 31,
   "metadata": {},
   "outputs": [
    {
     "data": {
      "text/plain": [
       "array([ 78.35, 104.15, 133.75, 167.15, 204.35, 245.35, 290.15, 338.75,\n",
       "       391.15, 447.35, 507.35, 571.15])"
      ]
     },
     "execution_count": 31,
     "metadata": {},
     "output_type": "execute_result"
    }
   ],
   "source": [
    "np.sum(sigma, axis=1)"
   ]
  },
  {
   "cell_type": "code",
   "execution_count": 36,
   "metadata": {},
   "outputs": [
    {
     "data": {
      "text/plain": [
       "array([[6.],\n",
       "       [6.],\n",
       "       [6.],\n",
       "       [1.],\n",
       "       [1.],\n",
       "       [1.],\n",
       "       [1.],\n",
       "       [1.],\n",
       "       [1.],\n",
       "       [1.]])"
      ]
     },
     "execution_count": 36,
     "metadata": {},
     "output_type": "execute_result"
    }
   ],
   "source": [
    "h = np.ones((10,1))\n",
    "h[:3] = 6\n",
    "h"
   ]
  },
  {
   "cell_type": "code",
   "execution_count": 37,
   "metadata": {},
   "outputs": [
    {
     "data": {
      "text/plain": [
       "4"
      ]
     },
     "execution_count": 37,
     "metadata": {},
     "output_type": "execute_result"
    }
   ],
   "source": [
    "max([2, 4])"
   ]
  },
  {
   "cell_type": "code",
   "execution_count": 1,
   "metadata": {},
   "outputs": [
    {
     "data": {
      "text/plain": [
       "[0, 1, 2, 3, 4, 5, 6, 7, 8, 9]"
      ]
     },
     "execution_count": 1,
     "metadata": {},
     "output_type": "execute_result"
    }
   ],
   "source": [
    "c = list(range(10))\n",
    "c"
   ]
  },
  {
   "cell_type": "code",
   "execution_count": 2,
   "metadata": {},
   "outputs": [
    {
     "data": {
      "text/plain": [
       "[7, 8, 9]"
      ]
     },
     "execution_count": 2,
     "metadata": {},
     "output_type": "execute_result"
    }
   ],
   "source": [
    "c[7:10]"
   ]
  },
  {
   "cell_type": "code",
   "execution_count": null,
   "metadata": {},
   "outputs": [],
   "source": []
  }
 ],
 "metadata": {
  "kernelspec": {
   "display_name": "Python 3",
   "language": "python",
   "name": "python3"
  },
  "language_info": {
   "codemirror_mode": {
    "name": "ipython",
    "version": 3
   },
   "file_extension": ".py",
   "mimetype": "text/x-python",
   "name": "python",
   "nbconvert_exporter": "python",
   "pygments_lexer": "ipython3",
   "version": "3.7.3"
  }
 },
 "nbformat": 4,
 "nbformat_minor": 2
}
